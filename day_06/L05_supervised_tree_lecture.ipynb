{
 "cells": [
  {
   "cell_type": "markdown",
   "metadata": {},
   "source": [
    "# Session 05\n",
    "\n",
    "## Decision Trees\n"
   ]
  },
  {
   "cell_type": "code",
   "execution_count": 1,
   "metadata": {},
   "outputs": [],
   "source": [
    "# import statements\n",
    "import os\n",
    "import numpy as np\n",
    "import pandas as pd\n",
    "import matplotlib.pyplot as plt\n",
    "import seaborn as sns\n",
    "\n",
    "from sklearn.datasets import load_digits, load_iris, make_blobs\n",
    "from sklearn.tree import DecisionTreeClassifier, export_graphviz, DecisionTreeRegressor\n",
    "from sklearn.metrics import accuracy_score, confusion_matrix, ConfusionMatrixDisplay\n",
    "\n",
    "\n",
    "import graphviz\n",
    "\n",
    "\n",
    "import matplotlib.image as mpimg\n",
    "\n",
    "\n"
   ]
  },
  {
   "cell_type": "code",
   "execution_count": 34,
   "metadata": {},
   "outputs": [],
   "source": [
    "# inpDir = os.path.join('..','..','input')\n",
    "# outDir = '../output'\n",
    "# moduleDir = 'machine_learning'\n",
    "\n",
    "\n",
    "\n",
    "## Basic Parameter\n",
    "\n",
    "\n",
    "RANDOM_STATE = 24\n",
    "np.random.seed(RANDOM_STATE)\n",
    "\n",
    "TEST_SIZE = 0.2\n"
   ]
  },
  {
   "cell_type": "markdown",
   "metadata": {},
   "source": [
    "pip install graphviz"
   ]
  },
  {
   "cell_type": "code",
   "execution_count": 35,
   "metadata": {},
   "outputs": [
    {
     "data": {
      "text/plain": [
       "'decision_tree.png'"
      ]
     },
     "execution_count": 35,
     "metadata": {},
     "output_type": "execute_result"
    }
   ],
   "source": [
    "decision_tree = graphviz.Digraph(node_attr={'shape':'box'},\n",
    "                                 edge_attr={'labeldistance':'10.5'},\n",
    "                                 format = 'png')\n",
    "decision_tree.node(\"0\",'Has Feathers?')\n",
    "decision_tree.node(\"1\",'Can Fly?')\n",
    "decision_tree.node(\"2\",'Fins?')\n",
    "decision_tree.node(\"3\",'Hawk?')\n",
    "decision_tree.node(\"4\",'Penguin?')\n",
    "decision_tree.node(\"5\",'Dolphin?')\n",
    "decision_tree.node(\"6\",'Bear?')\n",
    "\n",
    "decision_tree.edge(\"0\",\"1\", label = \"True\")\n",
    "decision_tree.edge(\"0\",\"2\", label = \"False\")\n",
    "\n",
    "decision_tree.edge(\"1\",\"3\", label = \"True\")\n",
    "decision_tree.edge(\"1\",\"4\", label = \"False\")\n",
    "\n",
    "decision_tree.edge(\"2\",\"5\", label = \"True\")\n",
    "decision_tree.edge(\"2\",\"6\", label = \"False\")\n",
    "\n",
    "decision_tree.render('decision_tree')\n",
    "\n"
   ]
  }
 ],
 "metadata": {
  "kernelspec": {
   "display_name": ".venv",
   "language": "python",
   "name": "python3"
  },
  "language_info": {
   "codemirror_mode": {
    "name": "ipython",
    "version": 3
   },
   "file_extension": ".py",
   "mimetype": "text/x-python",
   "name": "python",
   "nbconvert_exporter": "python",
   "pygments_lexer": "ipython3",
   "version": "3.10.7"
  }
 },
 "nbformat": 4,
 "nbformat_minor": 2
}
