{
 "cells": [
  {
   "cell_type": "code",
   "execution_count": 1,
   "metadata": {},
   "outputs": [],
   "source": [
    "#!/usr/bin/env python3\n",
    "# -*- coding: utf-8 -*-"
   ]
  },
  {
   "cell_type": "markdown",
   "metadata": {},
   "source": [
    "# Introduction to AI and OpenVino\n",
    "## Session 01\n",
    "\n",
    "## Create Environment\n",
    "\n",
    "<img src='../../prasami_images/prasami_color_tutorials_small.png' style = 'width:400px;' alt=\"By Pramod Sharma : pramod.sharma@prasami.com\" align=\"left\"/>"
   ]
  },
  {
   "cell_type": "markdown",
   "metadata": {},
   "source": [
    "### Prepare Virtual environment for Machine Learning\n",
    "<div class=\"alert alert-block alert-info\" style=\"font-family: Arial; font-size:1.2em;\">\n",
    "Step 1: Update and Upgrade\n",
    ">`sudo apt-get update`; `sudo apt-get -y upgrade`\n",
    "\n",
    "Step 2: Check python3 version\n",
    ">`python3 -V`\n",
    "\n",
    "Step 3:Check / install pip3 latest version\n",
    ">`sudo apt-get install -y python3-pip`\n",
    "\n",
    "Step 4: Don't forget to install following to make your environment more consistent\n",
    ">`sudo apt-get install build-essential libssl-dev libffi-dev python3-dev`\n",
    "\n",
    "Step 5: Install python3-venv\n",
    ">`sudo apt-get install -y python3-venv`\n",
    "\n",
    "Step 6: (Important) check and see if xvfb is installed:\n",
    "> `Xvfb -help`\n",
    "\n",
    "if not, install in main installation (outside virtual environment)\n",
    "> `sudo apt-get install xvfb`\n",
    "\n",
    "Step 7: make your environment\n",
    "> `python3 -m venv ML_module`\n",
    "\n",
    "Step 8: activate your environment\n",
    ">`source ML_module/bin/activate`\n",
    "\n",
    "Step 9: install required libraries\n",
    "\n",
    ">`pip3 install -U beautifulsoup4 imageio numpy pandas matplotlib jupyterlab seaborn jupyter_contrib_nbextensions  scikit-learn scikit-image xgboost statsmodels tqdm opencv-contrib-python pyarrow`\n",
    "\n",
    "<b>Note</b>: -U helps upgrade all specified packages to the newest available version.\n",
    "\n",
    "Step 10: for Deep Learning\n",
    "\n",
    "<b>Refer this [site](https://www.tensorflow.org/install/pip) before installing tensorflow</b>\n",
    "\n",
    ">`pip3 install -U torch torchvision torchaudio  tensorflow`\n",
    "\n",
    "Step 11: for Deepface for computer vision\n",
    "\n",
    "> `pip3 install -U opencv-contrib-python`\n",
    "\n",
    "> `pip3 install -U deepface`\n",
    "\n",
    "> `pip3 install -U cmake`\n",
    "\n",
    "> `pip3 install -U dlib` \n",
    "\n",
    "Step 12: for plotting models and graphs\n",
    " > `pip3 install pydot`\n",
    " \n",
    " > `pip install graphviz`\n",
    " \n",
    " Note you may also need to install `sudo apt-get install -y graphviz libgraphviz-dev` to get it working.\n",
    " \n",
    "  \n",
    " Step 13: install openvino\n",
    " \n",
    " > `pip3 install -U openvino openvino-dev`\n",
    " \n",
    " Step 14: Freeze the environment\n",
    " > `pip3 freeze -l > ml_requirements.txt`\n",
    "\n",
    " \n",
    "---:######:---\n",
    "</div>"
   ]
  },
  {
   "cell_type": "markdown",
   "metadata": {},
   "source": [
    "## Prologue"
   ]
  },
  {
   "cell_type": "code",
   "execution_count": 2,
   "metadata": {},
   "outputs": [],
   "source": [
    "import sys\n",
    "import os\n",
    "import datetime\n",
    "import numpy as np\n",
    "import pandas as pd\n",
    "\n",
    "import matplotlib\n",
    "import sklearn\n",
    "\n",
    "import matplotlib.pyplot as plt\n",
    "from cycler import cycler\n",
    "\n",
    "%matplotlib inline"
   ]
  },
  {
   "cell_type": "code",
   "execution_count": 16,
   "metadata": {},
   "outputs": [],
   "source": [
    "# at times, it makes sense to ignore irrelevant warnings\n",
    "import warnings\n",
    "\n",
    "warnings.filterwarnings('ignore')"
   ]
  },
  {
   "cell_type": "code",
   "execution_count": 17,
   "metadata": {},
   "outputs": [],
   "source": [
    "# Some Basic Directories for housekeeping\n",
    "# set location of input files:\n",
    "inpDir = os.path.join('..', '..', 'input')\n",
    "\n",
    "outDir = os.path.join('..', 'output')\n",
    "\n",
    "# define and set random state \n",
    "RANDOM_STATE = 24\n",
    "\n",
    "np.random.seed(RANDOM_STATE) # Set Random Seed for reproducible  results"
   ]
  },
  {
   "cell_type": "code",
   "execution_count": 18,
   "metadata": {},
   "outputs": [
    {
     "name": "stdout",
     "output_type": "stream",
     "text": [
      " Airplane\t\t  fashion_mnist\t\t       ionosphere\n",
      " breast_cancer_mod.csv\t  fifa_2019.csv\t\t       machine_learning\n",
      " cifar-10-batches-py\t  flower_photos\t\t       text_gen\n",
      " cifar-10-python.tar.gz  'Garbage classification'      valid_flowers\n",
      " cityscapes_data\t  garbage_classification.zip   weatherHistory.csv\n",
      " CV\t\t\t  housing\t\t       yolo_images\n"
     ]
    }
   ],
   "source": [
    "!ls {inpDir}"
   ]
  },
  {
   "cell_type": "code",
   "execution_count": 19,
   "metadata": {},
   "outputs": [],
   "source": [
    "!ls {outDir}"
   ]
  },
  {
   "cell_type": "code",
   "execution_count": 20,
   "metadata": {},
   "outputs": [],
   "source": [
    "# parameters for Matplotlib\n",
    "params = {'legend.fontsize': 'x-large',\n",
    "          'figure.figsize': (15, 12),\n",
    "          'axes.labelsize': 'x-large',\n",
    "          'axes.titlesize':'x-large',\n",
    "          'xtick.labelsize':'x-large',\n",
    "          'ytick.labelsize':'x-large',\n",
    "          'savefig.dpi': 150,\n",
    "          'image.cmap': 'jet',\n",
    "          'image.interpolation': 'none',\n",
    "          'savefig.bbox' : 'tight',\n",
    "          'lines.linewidth' : 2,\n",
    "          'legend.numpoints' : 1\n",
    "         }\n",
    "\n",
    "\n",
    "plt.rcParams.update(params)\n",
    "\n",
    "'''plt.rc('axes', prop_cycle=(\n",
    "    cycler('color', mglearn.plot_helpers.cm_cycle.colors) +\n",
    "    cycler('linestyle', ['-', '-', \"--\", (0, (3, 3)), (0, (1.5, 1.5))])))\n",
    "'''\n",
    "np.set_printoptions(precision=3, suppress=True)\n",
    "\n",
    "pd.set_option(\"display.max_columns\", 8)\n",
    "pd.set_option('display.precision', 2)\n",
    "\n",
    "__all__ = ['np', 'display', 'plt', 'pd', 'sklearn', 'seaborn']"
   ]
  },
  {
   "cell_type": "markdown",
   "metadata": {},
   "source": [
    "## Verify Tensorflow environment"
   ]
  },
  {
   "cell_type": "code",
   "execution_count": 21,
   "metadata": {},
   "outputs": [],
   "source": [
    "## Import Statements\n",
    "\n",
    "import tensorflow as tf"
   ]
  },
  {
   "cell_type": "code",
   "execution_count": 22,
   "metadata": {},
   "outputs": [
    {
     "data": {
      "text/plain": [
       "'1.26.4'"
      ]
     },
     "execution_count": 22,
     "metadata": {},
     "output_type": "execute_result"
    }
   ],
   "source": [
    "np.__version__"
   ]
  },
  {
   "cell_type": "code",
   "execution_count": 23,
   "metadata": {},
   "outputs": [
    {
     "data": {
      "text/plain": [
       "'2.2.2'"
      ]
     },
     "execution_count": 23,
     "metadata": {},
     "output_type": "execute_result"
    }
   ],
   "source": [
    "pd.__version__"
   ]
  },
  {
   "cell_type": "code",
   "execution_count": 24,
   "metadata": {},
   "outputs": [
    {
     "data": {
      "text/plain": [
       "'3.8.4'"
      ]
     },
     "execution_count": 24,
     "metadata": {},
     "output_type": "execute_result"
    }
   ],
   "source": [
    "matplotlib.__version__"
   ]
  },
  {
   "cell_type": "code",
   "execution_count": 25,
   "metadata": {},
   "outputs": [
    {
     "data": {
      "text/plain": [
       "'1.4.2'"
      ]
     },
     "execution_count": 25,
     "metadata": {},
     "output_type": "execute_result"
    }
   ],
   "source": [
    "sklearn.__version__"
   ]
  },
  {
   "cell_type": "code",
   "execution_count": 26,
   "metadata": {},
   "outputs": [
    {
     "data": {
      "text/plain": [
       "'2.15.0'"
      ]
     },
     "execution_count": 26,
     "metadata": {},
     "output_type": "execute_result"
    }
   ],
   "source": [
    "tf.__version__"
   ]
  },
  {
   "cell_type": "code",
   "execution_count": 27,
   "metadata": {},
   "outputs": [
    {
     "data": {
      "text/plain": [
       "'2.3.0+cu121'"
      ]
     },
     "execution_count": 27,
     "metadata": {},
     "output_type": "execute_result"
    }
   ],
   "source": [
    "import torch\n",
    "torch.__version__"
   ]
  },
  {
   "cell_type": "code",
   "execution_count": 28,
   "metadata": {},
   "outputs": [
    {
     "data": {
      "text/plain": [
       "'4.9.0'"
      ]
     },
     "execution_count": 28,
     "metadata": {},
     "output_type": "execute_result"
    }
   ],
   "source": [
    "import cv2\n",
    "cv2.__version__"
   ]
  },
  {
   "cell_type": "code",
   "execution_count": null,
   "metadata": {},
   "outputs": [],
   "source": []
  }
 ],
 "metadata": {
  "kernelspec": {
   "display_name": "Python 3 (ipykernel)",
   "language": "python",
   "name": "python3"
  },
  "language_info": {
   "codemirror_mode": {
    "name": "ipython",
    "version": 3
   },
   "file_extension": ".py",
   "mimetype": "text/x-python",
   "name": "python",
   "nbconvert_exporter": "python",
   "pygments_lexer": "ipython3",
   "version": "3.10.12"
  }
 },
 "nbformat": 4,
 "nbformat_minor": 4
}
