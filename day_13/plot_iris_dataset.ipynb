{
  "cells": [
    {
      "cell_type": "markdown",
      "metadata": {},
      "source": [
        "\n",
        "# The Iris Dataset\n",
        "This data sets consists of 3 different types of irises'\n",
        "(Setosa, Versicolour, and Virginica) petal and sepal\n",
        "length, stored in a 150x4 numpy.ndarray\n",
        "\n",
        "The rows being the samples and the columns being:\n",
        "Sepal Length, Sepal Width, Petal Length and Petal Width.\n",
        "\n",
        "The below plot uses the first two features.\n",
        "See [here](https://en.wikipedia.org/wiki/Iris_flower_data_set) for more\n",
        "information on this dataset.\n"
      ]
    },
    {
      "cell_type": "code",
      "execution_count": null,
      "metadata": {
        "collapsed": false
      },
      "outputs": [],
      "source": [
        "# Code source: Gaël Varoquaux\n",
        "# Modified for documentation by Jaques Grobler\n",
        "# License: BSD 3 clause"
      ]
    },
    {
      "cell_type": "markdown",
      "metadata": {},
      "source": [
        "## Loading the iris dataset\n",
        "\n"
      ]
    },
    {
      "cell_type": "code",
      "execution_count": null,
      "metadata": {
        "collapsed": false
      },
      "outputs": [
        {
          "ename": "",
          "evalue": "",
          "output_type": "error",
          "traceback": [
            "\u001b[1;31mFailed to start the Kernel. \n",
            "\u001b[1;31mAssertionError. \n",
            "\u001b[1;31mView Jupyter <a href='command:jupyter.viewOutput'>log</a> for further details."
          ]
        }
      ],
      "source": [
        "from sklearn import datasets\n",
        "\n",
        "iris = datasets.load_iris()"
      ]
    },
    {
      "cell_type": "markdown",
      "metadata": {},
      "source": [
        "## Scatter Plot of the Iris dataset\n",
        "\n"
      ]
    },
    {
      "cell_type": "code",
      "execution_count": null,
      "metadata": {
        "collapsed": false
      },
      "outputs": [],
      "source": [
        "import matplotlib.pyplot as plt\n",
        "\n",
        "_, ax = plt.subplots()\n",
        "scatter = ax.scatter(iris.data[:, 0], iris.data[:, 1], c=iris.target)\n",
        "ax.set(xlabel=iris.feature_names[0], ylabel=iris.feature_names[1])\n",
        "_ = ax.legend(\n",
        "    scatter.legend_elements()[0], iris.target_names, loc=\"lower right\", title=\"Classes\"\n",
        ")"
      ]
    },
    {
      "cell_type": "markdown",
      "metadata": {},
      "source": [
        "Each point in the scatter plot refers to one of the 150 iris flowers\n",
        "in the dataset, with the color indicating their respective type\n",
        "(Setosa, Versicolour, and Virginica).\n",
        "You can already see a pattern regarding the Setosa type, which is\n",
        "easily identifiable based on its short and wide sepal. Only\n",
        "considering these 2 dimensions, sepal width and length, there's still\n",
        "overlap between the Versicolor and Virginica types.\n",
        "\n"
      ]
    },
    {
      "cell_type": "markdown",
      "metadata": {},
      "source": [
        "## Plot a PCA representation\n",
        "Let's apply a Principal Component Analysis (PCA) to the iris dataset\n",
        "and then plot the irises across the first three PCA dimensions.\n",
        "This will allow us to better differentiate between the three types!\n",
        "\n"
      ]
    },
    {
      "cell_type": "code",
      "execution_count": null,
      "metadata": {
        "collapsed": false
      },
      "outputs": [],
      "source": [
        "# unused but required import for doing 3d projections with matplotlib < 3.2\n",
        "import mpl_toolkits.mplot3d  # noqa: F401\n",
        "\n",
        "from sklearn.decomposition import PCA\n",
        "\n",
        "fig = plt.figure(1, figsize=(8, 6))\n",
        "ax = fig.add_subplot(111, projection=\"3d\", elev=-150, azim=110)\n",
        "\n",
        "X_reduced = PCA(n_components=3).fit_transform(iris.data)\n",
        "ax.scatter(\n",
        "    X_reduced[:, 0],\n",
        "    X_reduced[:, 1],\n",
        "    X_reduced[:, 2],\n",
        "    c=iris.target,\n",
        "    s=40,\n",
        ")\n",
        "\n",
        "ax.set_title(\"First three PCA dimensions\")\n",
        "ax.set_xlabel(\"1st Eigenvector\")\n",
        "ax.xaxis.set_ticklabels([])\n",
        "ax.set_ylabel(\"2nd Eigenvector\")\n",
        "ax.yaxis.set_ticklabels([])\n",
        "ax.set_zlabel(\"3rd Eigenvector\")\n",
        "ax.zaxis.set_ticklabels([])\n",
        "\n",
        "plt.show()"
      ]
    },
    {
      "cell_type": "markdown",
      "metadata": {},
      "source": [
        "PCA will create 3 new features that are a linear combination of the\n",
        "4 original features. In addition, this transform maximizes the variance.\n",
        "With this transformation, we see that we can identify each species using\n",
        "only the first feature (i.e. first eigenvalues).\n",
        "\n"
      ]
    }
  ],
  "metadata": {
    "kernelspec": {
      "display_name": "Python 3",
      "language": "python",
      "name": "python3"
    },
    "language_info": {
      "codemirror_mode": {
        "name": "ipython",
        "version": 3
      },
      "file_extension": ".py",
      "mimetype": "text/x-python",
      "name": "python",
      "nbconvert_exporter": "python",
      "pygments_lexer": "ipython3",
      "version": "3.10.7"
    }
  },
  "nbformat": 4,
  "nbformat_minor": 0
}
